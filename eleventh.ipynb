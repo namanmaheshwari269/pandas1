{
 "cells": [
  {
   "cell_type": "code",
   "execution_count": 13,
   "id": "14da1dda-f2a0-42c6-802b-29f6b9cfdeeb",
   "metadata": {},
   "outputs": [],
   "source": [
    "import pandas as pd"
   ]
  },
  {
   "cell_type": "code",
   "execution_count": 14,
   "id": "d87150ef-3420-4a0f-9634-f440eabadaa0",
   "metadata": {},
   "outputs": [
    {
     "name": "stdout",
     "output_type": "stream",
     "text": [
      "             timestamp  electricity_usage\n",
      "0  2025-06-01 00:00:00                3.2\n",
      "1  2025-06-01 01:00:00                3.4\n",
      "2  2025-06-01 02:00:00                2.9\n",
      "3  2025-06-02 00:00:00                3.5\n",
      "4  2025-06-02 01:00:00                3.3\n",
      "5  2025-06-02 02:00:00                3.1\n"
     ]
    }
   ],
   "source": [
    "data = {\n",
    "    'timestamp':[\n",
    "         '2025-06-01 00:00:00',\n",
    "        '2025-06-01 01:00:00',\n",
    "        '2025-06-01 02:00:00',\n",
    "        '2025-06-02 00:00:00',\n",
    "        '2025-06-02 01:00:00',\n",
    "        '2025-06-02 02:00:00'\n",
    "    ],\n",
    "    'electricity_usage':[3.2,3.4,2.9,3.5,3.3,3.1]\n",
    "}\n",
    "\n",
    "df = pd.DataFrame(data)\n",
    "print(df)"
   ]
  },
  {
   "cell_type": "code",
   "execution_count": 15,
   "id": "5d575a36-1f12-4dd2-a057-58f2d03a1ca5",
   "metadata": {},
   "outputs": [],
   "source": [
    "df['timestamp'] = pd.to_datetime(df['timestamp'])"
   ]
  },
  {
   "cell_type": "code",
   "execution_count": 16,
   "id": "0260513a-58b5-4a6c-a189-c85eb775fad7",
   "metadata": {},
   "outputs": [
    {
     "name": "stdout",
     "output_type": "stream",
     "text": [
      "                     electricity_usage\n",
      "timestamp                             \n",
      "2025-06-01 00:00:00                3.2\n",
      "2025-06-01 01:00:00                3.4\n",
      "2025-06-01 02:00:00                2.9\n",
      "2025-06-02 00:00:00                3.5\n",
      "2025-06-02 01:00:00                3.3\n",
      "2025-06-02 02:00:00                3.1\n"
     ]
    }
   ],
   "source": [
    "df.set_index('timestamp',inplace=True)\n",
    "print(df)"
   ]
  },
  {
   "cell_type": "code",
   "execution_count": 17,
   "id": "a7128b4b-a749-402e-ba5e-faecb6e0ed49",
   "metadata": {},
   "outputs": [
    {
     "name": "stdout",
     "output_type": "stream",
     "text": [
      "            electricity_usage\n",
      "timestamp                    \n",
      "2025-06-01                9.5\n",
      "2025-06-02                9.9\n"
     ]
    }
   ],
   "source": [
    "daily_total = df.resample('D').sum()\n",
    "print(daily_total)"
   ]
  },
  {
   "cell_type": "code",
   "execution_count": null,
   "id": "5d39f916-38d1-40e2-8f6b-794abccc3404",
   "metadata": {},
   "outputs": [],
   "source": []
  }
 ],
 "metadata": {
  "kernelspec": {
   "display_name": "Python 3 (ipykernel)",
   "language": "python",
   "name": "python3"
  },
  "language_info": {
   "codemirror_mode": {
    "name": "ipython",
    "version": 3
   },
   "file_extension": ".py",
   "mimetype": "text/x-python",
   "name": "python",
   "nbconvert_exporter": "python",
   "pygments_lexer": "ipython3",
   "version": "3.12.3"
  }
 },
 "nbformat": 4,
 "nbformat_minor": 5
}
