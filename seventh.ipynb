{
 "cells": [
  {
   "cell_type": "markdown",
   "id": "5db41ea4-cc61-42df-ba6f-936d8b3bad71",
   "metadata": {},
   "source": [
    "Pivot Tables\n"
   ]
  },
  {
   "cell_type": "code",
   "execution_count": 1,
   "id": "cbf0fe85-e062-4a00-9748-74470b93392d",
   "metadata": {},
   "outputs": [],
   "source": [
    "import pandas as pd"
   ]
  },
  {
   "cell_type": "code",
   "execution_count": 5,
   "id": "abf63110-b101-4e7d-8e11-0b5e976fbdc0",
   "metadata": {},
   "outputs": [],
   "source": [
    "data = {\n",
    "\n",
    "    'Store':['A','A','B','B','C','C'],\n",
    "    'Product':['Apples','Oranges','Apples','Oranges','Apples','Oranges'],\n",
    "    'Sales':[100,150,90,120,80,130]\n",
    "}\n",
    "\n",
    "df = pd.DataFrame(data)"
   ]
  },
  {
   "cell_type": "code",
   "execution_count": 6,
   "id": "18ad38af-4b70-45e0-997b-969617935b98",
   "metadata": {},
   "outputs": [],
   "source": [
    "pivot = pd.pivot_table(df,values='Sales',index='Store',columns='Product',aggfunc='mean')"
   ]
  },
  {
   "cell_type": "code",
   "execution_count": 7,
   "id": "2854bbc8-3610-48b2-bc07-bf1d00771936",
   "metadata": {},
   "outputs": [
    {
     "data": {
      "text/html": [
       "<div>\n",
       "<style scoped>\n",
       "    .dataframe tbody tr th:only-of-type {\n",
       "        vertical-align: middle;\n",
       "    }\n",
       "\n",
       "    .dataframe tbody tr th {\n",
       "        vertical-align: top;\n",
       "    }\n",
       "\n",
       "    .dataframe thead th {\n",
       "        text-align: right;\n",
       "    }\n",
       "</style>\n",
       "<table border=\"1\" class=\"dataframe\">\n",
       "  <thead>\n",
       "    <tr style=\"text-align: right;\">\n",
       "      <th>Product</th>\n",
       "      <th>Apples</th>\n",
       "      <th>Oranges</th>\n",
       "    </tr>\n",
       "    <tr>\n",
       "      <th>Store</th>\n",
       "      <th></th>\n",
       "      <th></th>\n",
       "    </tr>\n",
       "  </thead>\n",
       "  <tbody>\n",
       "    <tr>\n",
       "      <th>A</th>\n",
       "      <td>100.0</td>\n",
       "      <td>150.0</td>\n",
       "    </tr>\n",
       "    <tr>\n",
       "      <th>B</th>\n",
       "      <td>90.0</td>\n",
       "      <td>120.0</td>\n",
       "    </tr>\n",
       "    <tr>\n",
       "      <th>C</th>\n",
       "      <td>80.0</td>\n",
       "      <td>130.0</td>\n",
       "    </tr>\n",
       "  </tbody>\n",
       "</table>\n",
       "</div>"
      ],
      "text/plain": [
       "Product  Apples  Oranges\n",
       "Store                   \n",
       "A         100.0    150.0\n",
       "B          90.0    120.0\n",
       "C          80.0    130.0"
      ]
     },
     "execution_count": 7,
     "metadata": {},
     "output_type": "execute_result"
    }
   ],
   "source": [
    "pivot"
   ]
  },
  {
   "cell_type": "code",
   "execution_count": null,
   "id": "196f41d0-23f5-405a-af11-10c94c026df4",
   "metadata": {},
   "outputs": [],
   "source": []
  }
 ],
 "metadata": {
  "kernelspec": {
   "display_name": "Python 3 (ipykernel)",
   "language": "python",
   "name": "python3"
  },
  "language_info": {
   "codemirror_mode": {
    "name": "ipython",
    "version": 3
   },
   "file_extension": ".py",
   "mimetype": "text/x-python",
   "name": "python",
   "nbconvert_exporter": "python",
   "pygments_lexer": "ipython3",
   "version": "3.12.3"
  }
 },
 "nbformat": 4,
 "nbformat_minor": 5
}
